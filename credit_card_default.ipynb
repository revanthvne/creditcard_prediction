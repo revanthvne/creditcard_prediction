{
 "cells": [
  {
   "cell_type": "markdown",
   "metadata": {},
   "source": [
    "## Loading the Data :\n",
    "loading the data into panada store it in dataframe (dataset)"
   ]
  },
  {
   "cell_type": "code",
   "execution_count": 1,
   "metadata": {
    "scrolled": true
   },
   "outputs": [
    {
     "data": {
      "text/html": [
       "<div>\n",
       "<style scoped>\n",
       "    .dataframe tbody tr th:only-of-type {\n",
       "        vertical-align: middle;\n",
       "    }\n",
       "\n",
       "    .dataframe tbody tr th {\n",
       "        vertical-align: top;\n",
       "    }\n",
       "\n",
       "    .dataframe thead th {\n",
       "        text-align: right;\n",
       "    }\n",
       "</style>\n",
       "<table border=\"1\" class=\"dataframe\">\n",
       "  <thead>\n",
       "    <tr style=\"text-align: right;\">\n",
       "      <th></th>\n",
       "      <th>ID</th>\n",
       "      <th>LIMIT_BAL</th>\n",
       "      <th>SEX</th>\n",
       "      <th>EDUCATION</th>\n",
       "      <th>MARRIAGE</th>\n",
       "      <th>AGE</th>\n",
       "      <th>PAY_1</th>\n",
       "      <th>PAY_2</th>\n",
       "      <th>PAY_3</th>\n",
       "      <th>PAY_4</th>\n",
       "      <th>...</th>\n",
       "      <th>BILL_AMT3</th>\n",
       "      <th>BILL_AMT4</th>\n",
       "      <th>BILL_AMT5</th>\n",
       "      <th>BILL_AMT6</th>\n",
       "      <th>PAY_AMT1</th>\n",
       "      <th>PAY_AMT2</th>\n",
       "      <th>PAY_AMT3</th>\n",
       "      <th>PAY_AMT4</th>\n",
       "      <th>PAY_AMT5</th>\n",
       "      <th>PAY_AMT6</th>\n",
       "    </tr>\n",
       "  </thead>\n",
       "  <tbody>\n",
       "    <tr>\n",
       "      <th>0</th>\n",
       "      <td>1</td>\n",
       "      <td>20000.0</td>\n",
       "      <td>2</td>\n",
       "      <td>2</td>\n",
       "      <td>1</td>\n",
       "      <td>24</td>\n",
       "      <td>2</td>\n",
       "      <td>2</td>\n",
       "      <td>-1</td>\n",
       "      <td>-1</td>\n",
       "      <td>...</td>\n",
       "      <td>689.0</td>\n",
       "      <td>0.0</td>\n",
       "      <td>0.0</td>\n",
       "      <td>0.0</td>\n",
       "      <td>0.0</td>\n",
       "      <td>689.0</td>\n",
       "      <td>0.0</td>\n",
       "      <td>0.0</td>\n",
       "      <td>0.0</td>\n",
       "      <td>0.0</td>\n",
       "    </tr>\n",
       "    <tr>\n",
       "      <th>1</th>\n",
       "      <td>2</td>\n",
       "      <td>120000.0</td>\n",
       "      <td>2</td>\n",
       "      <td>2</td>\n",
       "      <td>2</td>\n",
       "      <td>26</td>\n",
       "      <td>-1</td>\n",
       "      <td>2</td>\n",
       "      <td>0</td>\n",
       "      <td>0</td>\n",
       "      <td>...</td>\n",
       "      <td>2682.0</td>\n",
       "      <td>3272.0</td>\n",
       "      <td>3455.0</td>\n",
       "      <td>3261.0</td>\n",
       "      <td>0.0</td>\n",
       "      <td>1000.0</td>\n",
       "      <td>1000.0</td>\n",
       "      <td>1000.0</td>\n",
       "      <td>0.0</td>\n",
       "      <td>2000.0</td>\n",
       "    </tr>\n",
       "    <tr>\n",
       "      <th>2</th>\n",
       "      <td>3</td>\n",
       "      <td>90000.0</td>\n",
       "      <td>2</td>\n",
       "      <td>2</td>\n",
       "      <td>2</td>\n",
       "      <td>34</td>\n",
       "      <td>0</td>\n",
       "      <td>0</td>\n",
       "      <td>0</td>\n",
       "      <td>0</td>\n",
       "      <td>...</td>\n",
       "      <td>13559.0</td>\n",
       "      <td>14331.0</td>\n",
       "      <td>14948.0</td>\n",
       "      <td>15549.0</td>\n",
       "      <td>1518.0</td>\n",
       "      <td>1500.0</td>\n",
       "      <td>1000.0</td>\n",
       "      <td>1000.0</td>\n",
       "      <td>1000.0</td>\n",
       "      <td>5000.0</td>\n",
       "    </tr>\n",
       "    <tr>\n",
       "      <th>3</th>\n",
       "      <td>4</td>\n",
       "      <td>50000.0</td>\n",
       "      <td>2</td>\n",
       "      <td>2</td>\n",
       "      <td>1</td>\n",
       "      <td>37</td>\n",
       "      <td>0</td>\n",
       "      <td>0</td>\n",
       "      <td>0</td>\n",
       "      <td>0</td>\n",
       "      <td>...</td>\n",
       "      <td>49291.0</td>\n",
       "      <td>28314.0</td>\n",
       "      <td>28959.0</td>\n",
       "      <td>29547.0</td>\n",
       "      <td>2000.0</td>\n",
       "      <td>2019.0</td>\n",
       "      <td>1200.0</td>\n",
       "      <td>1100.0</td>\n",
       "      <td>1069.0</td>\n",
       "      <td>1000.0</td>\n",
       "    </tr>\n",
       "    <tr>\n",
       "      <th>4</th>\n",
       "      <td>5</td>\n",
       "      <td>50000.0</td>\n",
       "      <td>1</td>\n",
       "      <td>2</td>\n",
       "      <td>1</td>\n",
       "      <td>57</td>\n",
       "      <td>-1</td>\n",
       "      <td>0</td>\n",
       "      <td>-1</td>\n",
       "      <td>0</td>\n",
       "      <td>...</td>\n",
       "      <td>35835.0</td>\n",
       "      <td>20940.0</td>\n",
       "      <td>19146.0</td>\n",
       "      <td>19131.0</td>\n",
       "      <td>2000.0</td>\n",
       "      <td>36681.0</td>\n",
       "      <td>10000.0</td>\n",
       "      <td>9000.0</td>\n",
       "      <td>689.0</td>\n",
       "      <td>679.0</td>\n",
       "    </tr>\n",
       "  </tbody>\n",
       "</table>\n",
       "<p>5 rows × 24 columns</p>\n",
       "</div>"
      ],
      "text/plain": [
       "   ID  LIMIT_BAL  SEX  EDUCATION  MARRIAGE  AGE  PAY_1  PAY_2  PAY_3  PAY_4  \\\n",
       "0   1    20000.0    2          2         1   24      2      2     -1     -1   \n",
       "1   2   120000.0    2          2         2   26     -1      2      0      0   \n",
       "2   3    90000.0    2          2         2   34      0      0      0      0   \n",
       "3   4    50000.0    2          2         1   37      0      0      0      0   \n",
       "4   5    50000.0    1          2         1   57     -1      0     -1      0   \n",
       "\n",
       "     ...     BILL_AMT3  BILL_AMT4  BILL_AMT5  BILL_AMT6  PAY_AMT1  PAY_AMT2  \\\n",
       "0    ...         689.0        0.0        0.0        0.0       0.0     689.0   \n",
       "1    ...        2682.0     3272.0     3455.0     3261.0       0.0    1000.0   \n",
       "2    ...       13559.0    14331.0    14948.0    15549.0    1518.0    1500.0   \n",
       "3    ...       49291.0    28314.0    28959.0    29547.0    2000.0    2019.0   \n",
       "4    ...       35835.0    20940.0    19146.0    19131.0    2000.0   36681.0   \n",
       "\n",
       "   PAY_AMT3  PAY_AMT4  PAY_AMT5  PAY_AMT6  \n",
       "0       0.0       0.0       0.0       0.0  \n",
       "1    1000.0    1000.0       0.0    2000.0  \n",
       "2    1000.0    1000.0    1000.0    5000.0  \n",
       "3    1200.0    1100.0    1069.0    1000.0  \n",
       "4   10000.0    9000.0     689.0     679.0  \n",
       "\n",
       "[5 rows x 24 columns]"
      ]
     },
     "metadata": {},
     "output_type": "display_data"
    }
   ],
   "source": [
    "import pandas as pd\n",
    "from IPython.display import display # Allows the use of display() for DataFrames\n",
    "%matplotlib inline\n",
    "import matplotlib.pyplot as plt\n",
    "\n",
    "#pd.read_excel(\"./credit_card_dataset.xls\")\n",
    "dataset = pd.read_csv(\"./credit_cards_dataset.csv\")\n",
    "\n",
    "display(data.head())\n",
    "\n"
   ]
  },
  {
   "cell_type": "markdown",
   "metadata": {},
   "source": [
    "## Preparing the Features  before we processed:\n",
    "\n",
    "#### Checking if the columns have missing values"
   ]
  },
  {
   "cell_type": "code",
   "execution_count": 21,
   "metadata": {},
   "outputs": [
    {
     "name": "stdout",
     "output_type": "stream",
     "text": [
      "ID is doesn't have null values\n",
      "LIMIT_BAL is doesn't have null values\n",
      "SEX is doesn't have null values\n",
      "EDUCATION is doesn't have null values\n",
      "MARRIAGE is doesn't have null values\n",
      "AGE is doesn't have null values\n",
      "PAY_1 is doesn't have null values\n",
      "PAY_2 is doesn't have null values\n",
      "PAY_3 is doesn't have null values\n",
      "PAY_4 is doesn't have null values\n",
      "PAY_5 is doesn't have null values\n",
      "PAY_6 is doesn't have null values\n",
      "BILL_AMT1 is doesn't have null values\n",
      "BILL_AMT2 is doesn't have null values\n",
      "BILL_AMT3 is doesn't have null values\n",
      "BILL_AMT4 is doesn't have null values\n",
      "BILL_AMT5 is doesn't have null values\n",
      "BILL_AMT6 is doesn't have null values\n",
      "PAY_AMT1 is doesn't have null values\n",
      "PAY_AMT2 is doesn't have null values\n",
      "PAY_AMT3 is doesn't have null values\n",
      "PAY_AMT4 is doesn't have null values\n",
      "PAY_AMT5 is doesn't have null values\n",
      "PAY_AMT6 is doesn't have null values\n",
      "default.payment.next.month is doesn't have null values\n"
     ]
    }
   ],
   "source": [
    "#checking NaN values if there is any then data will be sanitized \n",
    "for column in dataset:\n",
    "    if dataset[column].isnull().values.any():\n",
    "        print \"NaN value/s detected in \"+column\n",
    "    else:\n",
    "        print \"{} is doesn't have null values\".format(column)\n",
    "\n"
   ]
  },
  {
   "cell_type": "markdown",
   "metadata": {},
   "source": [
    "#### In GENDER column in the dataset the gender was presenting in 1 or 2 value for male / female so we are changing it to be 0 and 1\n",
    "- sex : male = 0 , female = 1"
   ]
  },
  {
   "cell_type": "code",
   "execution_count": 22,
   "metadata": {},
   "outputs": [],
   "source": [
    "dataset = dataset.rename(columns={\"PAY_0\": \"PAY_1\"})"
   ]
  },
  {
   "cell_type": "markdown",
   "metadata": {},
   "source": [
    "#### Seperate the label into different Dataframe (outcome) and the other features in (data)"
   ]
  },
  {
   "cell_type": "code",
   "execution_count": null,
   "metadata": {},
   "outputs": [],
   "source": [
    "\n",
    "data = dataset.drop('default.payment.next.month',axis=1)\n",
    "outcome = dataset['default.payment.next.month']"
   ]
  },
  {
   "cell_type": "markdown",
   "metadata": {},
   "source": [
    "#### Dataset Features :\n"
   ]
  },
  {
   "cell_type": "markdown",
   "metadata": {},
   "source": [
    "- ID: ID of each client\n",
    "- LIMIT_BAL: Amount of given credit in NT dollars (includes individual and family/supplementary credit\n",
    "- SEX: Gender (1=male, 2=female)\n",
    "- EDUCATION: (1=graduate school, 2=university, 3=high school, 4=others, 5=unknown, 6=unknown)\n",
    "- MARRIAGE: Marital status (1=married, 2=single, 3=others)\n",
    "- AGE: Age in years\n",
    "- PAY_1: Repayment status in September, 2005 (-1=pay duly, 1=payment delay for one month, 2=payment delay for two months, ... 8=payment delay for eight months, 9=payment delay for nine months and above)\n",
    "- PAY_2: Repayment status in August, 2005 (scale same as above)\n",
    "- PAY_3: Repayment status in July, 2005 (scale same as above)\n",
    "- PAY_4: Repayment status in June, 2005 (scale same as above)\n",
    "- PAY_5: Repayment status in May, 2005 (scale same as above)\n",
    "- PAY_6: Repayment status in April, 2005 (scale same as above)\n",
    "- BILL_AMT1: Amount of bill statement in September, 2005 (NT dollar)\n",
    "- BILL_AMT2: Amount of bill statement in August, 2005 (NT dollar)\n",
    "- BILL_AMT3: Amount of bill statement in July, 2005 (NT dollar)\n",
    "- BILL_AMT4: Amount of bill statement in June, 2005 (NT dollar)\n",
    "- BILL_AMT5: Amount of bill statement in May, 2005 (NT dollar)\n",
    "- BILL_AMT6: Amount of bill statement in April, 2005 (NT dollar)\n",
    "- PAY_AMT1: Amount of previous payment in September, 2005 (NT dollar)\n",
    "- PAY_AMT2: Amount of previous payment in August, 2005 (NT dollar)\n",
    "- PAY_AMT3: Amount of previous payment in July, 2005 (NT dollar)\n",
    "- PAY_AMT4: Amount of previous payment in June, 2005 (NT dollar)\n",
    "- PAY_AMT5: Amount of previous payment in May, 2005 (NT dollar)\n",
    "- PAY_AMT6: Amount of previous payment in April, 2005 (NT dollar)\n",
    "- default.payment.next.month: Default payment (1=yes, 0=no)"
   ]
  },
  {
   "cell_type": "markdown",
   "metadata": {},
   "source": [
    "### Looking into the data in depths and check the and Min, Max values. looking into the mean and the Standard Deviation"
   ]
  },
  {
   "cell_type": "markdown",
   "metadata": {},
   "source": [
    "#### Payment Amount :"
   ]
  },
  {
   "cell_type": "code",
   "execution_count": 2,
   "metadata": {},
   "outputs": [
    {
     "data": {
      "text/html": [
       "<div>\n",
       "<style scoped>\n",
       "    .dataframe tbody tr th:only-of-type {\n",
       "        vertical-align: middle;\n",
       "    }\n",
       "\n",
       "    .dataframe tbody tr th {\n",
       "        vertical-align: top;\n",
       "    }\n",
       "\n",
       "    .dataframe thead th {\n",
       "        text-align: right;\n",
       "    }\n",
       "</style>\n",
       "<table border=\"1\" class=\"dataframe\">\n",
       "  <thead>\n",
       "    <tr style=\"text-align: right;\">\n",
       "      <th></th>\n",
       "      <th>PAY_AMT1</th>\n",
       "      <th>PAY_AMT2</th>\n",
       "      <th>PAY_AMT3</th>\n",
       "      <th>PAY_AMT4</th>\n",
       "      <th>PAY_AMT5</th>\n",
       "      <th>PAY_AMT6</th>\n",
       "    </tr>\n",
       "  </thead>\n",
       "  <tbody>\n",
       "    <tr>\n",
       "      <th>count</th>\n",
       "      <td>30000.000000</td>\n",
       "      <td>3.000000e+04</td>\n",
       "      <td>30000.00000</td>\n",
       "      <td>30000.000000</td>\n",
       "      <td>30000.000000</td>\n",
       "      <td>30000.000000</td>\n",
       "    </tr>\n",
       "    <tr>\n",
       "      <th>mean</th>\n",
       "      <td>5663.580500</td>\n",
       "      <td>5.921163e+03</td>\n",
       "      <td>5225.68150</td>\n",
       "      <td>4826.076867</td>\n",
       "      <td>4799.387633</td>\n",
       "      <td>5215.502567</td>\n",
       "    </tr>\n",
       "    <tr>\n",
       "      <th>std</th>\n",
       "      <td>16563.280354</td>\n",
       "      <td>2.304087e+04</td>\n",
       "      <td>17606.96147</td>\n",
       "      <td>15666.159744</td>\n",
       "      <td>15278.305679</td>\n",
       "      <td>17777.465775</td>\n",
       "    </tr>\n",
       "    <tr>\n",
       "      <th>min</th>\n",
       "      <td>0.000000</td>\n",
       "      <td>0.000000e+00</td>\n",
       "      <td>0.00000</td>\n",
       "      <td>0.000000</td>\n",
       "      <td>0.000000</td>\n",
       "      <td>0.000000</td>\n",
       "    </tr>\n",
       "    <tr>\n",
       "      <th>25%</th>\n",
       "      <td>1000.000000</td>\n",
       "      <td>8.330000e+02</td>\n",
       "      <td>390.00000</td>\n",
       "      <td>296.000000</td>\n",
       "      <td>252.500000</td>\n",
       "      <td>117.750000</td>\n",
       "    </tr>\n",
       "    <tr>\n",
       "      <th>50%</th>\n",
       "      <td>2100.000000</td>\n",
       "      <td>2.009000e+03</td>\n",
       "      <td>1800.00000</td>\n",
       "      <td>1500.000000</td>\n",
       "      <td>1500.000000</td>\n",
       "      <td>1500.000000</td>\n",
       "    </tr>\n",
       "    <tr>\n",
       "      <th>75%</th>\n",
       "      <td>5006.000000</td>\n",
       "      <td>5.000000e+03</td>\n",
       "      <td>4505.00000</td>\n",
       "      <td>4013.250000</td>\n",
       "      <td>4031.500000</td>\n",
       "      <td>4000.000000</td>\n",
       "    </tr>\n",
       "    <tr>\n",
       "      <th>max</th>\n",
       "      <td>873552.000000</td>\n",
       "      <td>1.684259e+06</td>\n",
       "      <td>896040.00000</td>\n",
       "      <td>621000.000000</td>\n",
       "      <td>426529.000000</td>\n",
       "      <td>528666.000000</td>\n",
       "    </tr>\n",
       "  </tbody>\n",
       "</table>\n",
       "</div>"
      ],
      "text/plain": [
       "            PAY_AMT1      PAY_AMT2      PAY_AMT3       PAY_AMT4  \\\n",
       "count   30000.000000  3.000000e+04   30000.00000   30000.000000   \n",
       "mean     5663.580500  5.921163e+03    5225.68150    4826.076867   \n",
       "std     16563.280354  2.304087e+04   17606.96147   15666.159744   \n",
       "min         0.000000  0.000000e+00       0.00000       0.000000   \n",
       "25%      1000.000000  8.330000e+02     390.00000     296.000000   \n",
       "50%      2100.000000  2.009000e+03    1800.00000    1500.000000   \n",
       "75%      5006.000000  5.000000e+03    4505.00000    4013.250000   \n",
       "max    873552.000000  1.684259e+06  896040.00000  621000.000000   \n",
       "\n",
       "            PAY_AMT5       PAY_AMT6  \n",
       "count   30000.000000   30000.000000  \n",
       "mean     4799.387633    5215.502567  \n",
       "std     15278.305679   17777.465775  \n",
       "min         0.000000       0.000000  \n",
       "25%       252.500000     117.750000  \n",
       "50%      1500.000000    1500.000000  \n",
       "75%      4031.500000    4000.000000  \n",
       "max    426529.000000  528666.000000  "
      ]
     },
     "execution_count": 2,
     "metadata": {},
     "output_type": "execute_result"
    }
   ],
   "source": [
    "dataset[['PAY_AMT1', 'PAY_AMT2', 'PAY_AMT3', 'PAY_AMT4', 'PAY_AMT5', 'PAY_AMT6']].describe()\n"
   ]
  },
  {
   "cell_type": "markdown",
   "metadata": {},
   "source": [
    "#### Bill Amount :"
   ]
  },
  {
   "cell_type": "code",
   "execution_count": 3,
   "metadata": {},
   "outputs": [
    {
     "data": {
      "text/html": [
       "<div>\n",
       "<style scoped>\n",
       "    .dataframe tbody tr th:only-of-type {\n",
       "        vertical-align: middle;\n",
       "    }\n",
       "\n",
       "    .dataframe tbody tr th {\n",
       "        vertical-align: top;\n",
       "    }\n",
       "\n",
       "    .dataframe thead th {\n",
       "        text-align: right;\n",
       "    }\n",
       "</style>\n",
       "<table border=\"1\" class=\"dataframe\">\n",
       "  <thead>\n",
       "    <tr style=\"text-align: right;\">\n",
       "      <th></th>\n",
       "      <th>BILL_AMT1</th>\n",
       "      <th>BILL_AMT2</th>\n",
       "      <th>BILL_AMT3</th>\n",
       "      <th>BILL_AMT4</th>\n",
       "      <th>BILL_AMT5</th>\n",
       "      <th>BILL_AMT6</th>\n",
       "    </tr>\n",
       "  </thead>\n",
       "  <tbody>\n",
       "    <tr>\n",
       "      <th>count</th>\n",
       "      <td>30000.000000</td>\n",
       "      <td>30000.000000</td>\n",
       "      <td>3.000000e+04</td>\n",
       "      <td>30000.000000</td>\n",
       "      <td>30000.000000</td>\n",
       "      <td>30000.000000</td>\n",
       "    </tr>\n",
       "    <tr>\n",
       "      <th>mean</th>\n",
       "      <td>51223.330900</td>\n",
       "      <td>49179.075167</td>\n",
       "      <td>4.701315e+04</td>\n",
       "      <td>43262.948967</td>\n",
       "      <td>40311.400967</td>\n",
       "      <td>38871.760400</td>\n",
       "    </tr>\n",
       "    <tr>\n",
       "      <th>std</th>\n",
       "      <td>73635.860576</td>\n",
       "      <td>71173.768783</td>\n",
       "      <td>6.934939e+04</td>\n",
       "      <td>64332.856134</td>\n",
       "      <td>60797.155770</td>\n",
       "      <td>59554.107537</td>\n",
       "    </tr>\n",
       "    <tr>\n",
       "      <th>min</th>\n",
       "      <td>-165580.000000</td>\n",
       "      <td>-69777.000000</td>\n",
       "      <td>-1.572640e+05</td>\n",
       "      <td>-170000.000000</td>\n",
       "      <td>-81334.000000</td>\n",
       "      <td>-339603.000000</td>\n",
       "    </tr>\n",
       "    <tr>\n",
       "      <th>25%</th>\n",
       "      <td>3558.750000</td>\n",
       "      <td>2984.750000</td>\n",
       "      <td>2.666250e+03</td>\n",
       "      <td>2326.750000</td>\n",
       "      <td>1763.000000</td>\n",
       "      <td>1256.000000</td>\n",
       "    </tr>\n",
       "    <tr>\n",
       "      <th>50%</th>\n",
       "      <td>22381.500000</td>\n",
       "      <td>21200.000000</td>\n",
       "      <td>2.008850e+04</td>\n",
       "      <td>19052.000000</td>\n",
       "      <td>18104.500000</td>\n",
       "      <td>17071.000000</td>\n",
       "    </tr>\n",
       "    <tr>\n",
       "      <th>75%</th>\n",
       "      <td>67091.000000</td>\n",
       "      <td>64006.250000</td>\n",
       "      <td>6.016475e+04</td>\n",
       "      <td>54506.000000</td>\n",
       "      <td>50190.500000</td>\n",
       "      <td>49198.250000</td>\n",
       "    </tr>\n",
       "    <tr>\n",
       "      <th>max</th>\n",
       "      <td>964511.000000</td>\n",
       "      <td>983931.000000</td>\n",
       "      <td>1.664089e+06</td>\n",
       "      <td>891586.000000</td>\n",
       "      <td>927171.000000</td>\n",
       "      <td>961664.000000</td>\n",
       "    </tr>\n",
       "  </tbody>\n",
       "</table>\n",
       "</div>"
      ],
      "text/plain": [
       "           BILL_AMT1      BILL_AMT2     BILL_AMT3      BILL_AMT4  \\\n",
       "count   30000.000000   30000.000000  3.000000e+04   30000.000000   \n",
       "mean    51223.330900   49179.075167  4.701315e+04   43262.948967   \n",
       "std     73635.860576   71173.768783  6.934939e+04   64332.856134   \n",
       "min   -165580.000000  -69777.000000 -1.572640e+05 -170000.000000   \n",
       "25%      3558.750000    2984.750000  2.666250e+03    2326.750000   \n",
       "50%     22381.500000   21200.000000  2.008850e+04   19052.000000   \n",
       "75%     67091.000000   64006.250000  6.016475e+04   54506.000000   \n",
       "max    964511.000000  983931.000000  1.664089e+06  891586.000000   \n",
       "\n",
       "           BILL_AMT5      BILL_AMT6  \n",
       "count   30000.000000   30000.000000  \n",
       "mean    40311.400967   38871.760400  \n",
       "std     60797.155770   59554.107537  \n",
       "min    -81334.000000 -339603.000000  \n",
       "25%      1763.000000    1256.000000  \n",
       "50%     18104.500000   17071.000000  \n",
       "75%     50190.500000   49198.250000  \n",
       "max    927171.000000  961664.000000  "
      ]
     },
     "execution_count": 3,
     "metadata": {},
     "output_type": "execute_result"
    }
   ],
   "source": [
    "dataset[['BILL_AMT1', 'BILL_AMT2', 'BILL_AMT3', 'BILL_AMT4', 'BILL_AMT5', 'BILL_AMT6']].describe()\n"
   ]
  },
  {
   "cell_type": "markdown",
   "metadata": {},
   "source": [
    "#### helper Methods :"
   ]
  },
  {
   "cell_type": "code",
   "execution_count": 26,
   "metadata": {},
   "outputs": [],
   "source": [
    "\n",
    "dataset['SEX'] =  [ 0 if x==1 else 1 for x in data['SEX']]\n",
    "data['SEX']= dataset['SEX']\n",
    "\n",
    "## this method will print the percentage of the defaulted account \n",
    "# @param : defaulted_count, total_count, label\n",
    "def calculate_percentage (default_count, total_count,label):\n",
    "    print \"Percentage of {} is {} %\".format(label,((total_count * 100) / default_count))\n",
    "\n",
    "## this method will get the columns and will take input the prefix and will add the Numerical part to it ( from 1 to 6 )\n",
    "def getColumnsNames(prefix):\n",
    "    return [prefix+str(x) for x in range(1,7)]"
   ]
  },
  {
   "cell_type": "markdown",
   "metadata": {},
   "source": [
    "## Visualizing the Data\n"
   ]
  },
  {
   "cell_type": "code",
   "execution_count": 6,
   "metadata": {},
   "outputs": [
    {
     "name": "stdout",
     "output_type": "stream",
     "text": [
      "Percentage of Graduate school Default is 19 %\n",
      "Percentage of University Default is 23 %\n",
      "Percentage of High school Default is 25 %\n",
      "Percentage of Others Default is 5 %\n"
     ]
    },
    {
     "name": "stderr",
     "output_type": "stream",
     "text": [
      "No handlers could be found for logger \"matplotlib.legend\"\n"
     ]
    },
    {
     "data": {
      "image/png": "[encoded data removed]",
      "text/plain": [
       "<matplotlib.figure.Figure at 0x7f93e2f94b90>"
      ]
     },
     "metadata": {},
     "output_type": "display_data"
    }
   ],
   "source": [
    "#(1 = graduate school; 2 = university; 3 = high school; 4 = others)\n",
    "# preparing the vairable for the diagram\n",
    "_EDUCATION_RANGE= [1,2,3,4]\n",
    "plt.figure(figsize=(10,5))\n",
    "\n",
    "school= dataset['EDUCATION'][data['EDUCATION']==1].count()\n",
    "school_default = dataset['EDUCATION'][(dataset['EDUCATION']==1)&(dataset['default.payment.next.month'])].count()\n",
    "\n",
    "university= dataset['EDUCATION'][data['EDUCATION']==2].count()\n",
    "university_default = dataset['EDUCATION'][(dataset['EDUCATION']==2)&(dataset['default.payment.next.month'])].count()\n",
    "\n",
    "high_school= dataset['EDUCATION'][data['EDUCATION']==3].count()\n",
    "high_school_default = dataset['EDUCATION'][(dataset['EDUCATION']==3)&(dataset['default.payment.next.month'])].count()\n",
    "\n",
    "others= dataset['EDUCATION'][data['EDUCATION']==4].count()\n",
    "others_default = dataset['EDUCATION'][(dataset['EDUCATION']==4)&(dataset['default.payment.next.month'])].count()\n",
    "\n",
    "education_total = [school,university,high_school,others]\n",
    "default_education_total=  [school_default,university_default,high_school_default,others_default] \n",
    "\n",
    "\n",
    "plt.bar(_EDUCATION_RANGE , education_total,color='grey')\n",
    "plt.bar(_EDUCATION_RANGE , default_education_total,color='yellow', alpha = 0.7)\n",
    "plt.xticks(_EDUCATION_RANGE,['graduate school','university','high school','others'])\n",
    "calculate_percentage(school,school_default,\"Graduate school Default\")\n",
    "calculate_percentage(university,university_default,\"University Default\")\n",
    "calculate_percentage(high_school,high_school_default,\"High school Default\")\n",
    "calculate_percentage(others,others_default,\"Others Default\")\n",
    "\n",
    "\n",
    "plt.legend()\n",
    "plt.show()\n",
    "\n",
    "\n",
    "\n",
    "\n"
   ]
  },
  {
   "cell_type": "code",
   "execution_count": 7,
   "metadata": {},
   "outputs": [
    {
     "name": "stdout",
     "output_type": "stream",
     "text": [
      "Gender / Default\n"
     ]
    },
    {
     "data": {
      "image/png": "[encoded data removed]",
      "text/plain": [
       "<matplotlib.figure.Figure at 0x7f93e2ffa910>"
      ]
     },
     "metadata": {},
     "output_type": "display_data"
    },
    {
     "name": "stdout",
     "output_type": "stream",
     "text": [
      "Percentage of Male Default is 24 %\n",
      "Percentage of Female Default is 20 %\n"
     ]
    }
   ],
   "source": [
    "# male = 0 , female = 1\n",
    "# preparing the vairable for the diagram\n",
    "print(\"Gender / Default\")\n",
    "plt.figure(figsize=(10,5))\n",
    "_GENDER_RANGE= [0,1]\n",
    "\n",
    "male= dataset['SEX'][data['SEX']==0].count()\n",
    "male_default = dataset['SEX'][(dataset['SEX']==0)&(dataset['default.payment.next.month']==1)].count()\n",
    "\n",
    "female=dataset['SEX'][data['SEX']==1].count()\n",
    "female_default = dataset['SEX'][(dataset['SEX']==1)&(dataset['default.payment.next.month']==1)].count()\n",
    "\n",
    "gender_total = [male,female]\n",
    "default_gender_total = [male_default,female_default]\n",
    "\n",
    "plt.bar(_GENDER_RANGE,gender_total, color='grey')\n",
    "plt.bar(_GENDER_RANGE,default_gender_total, color='yellow',alpha = 0.7)\n",
    "plt.xticks([0,1],['Male','Female'])\n",
    "\n",
    "plt.legend()\n",
    "plt.show()\n",
    "calculate_percentage(male,male_default,\"Male Default\")\n",
    "calculate_percentage(female,female_default,\"Female Default\")\n",
    "\n",
    "\n"
   ]
  },
  {
   "cell_type": "code",
   "execution_count": 8,
   "metadata": {},
   "outputs": [
    {
     "name": "stdout",
     "output_type": "stream",
     "text": [
      "Marriage / Default\n"
     ]
    },
    {
     "data": {
      "image/png": "[encoded data removed]",
      "text/plain": [
       "<matplotlib.figure.Figure at 0x7f93e2e67810>"
      ]
     },
     "metadata": {},
     "output_type": "display_data"
    },
    {
     "name": "stdout",
     "output_type": "stream",
     "text": [
      "Percentage of Married Default is 23 %\n",
      "Percentage of Single Default is 20 %\n",
      "Percentage of Others Default is 26 %\n"
     ]
    }
   ],
   "source": [
    "# 1=married, 2=single, 3=others\n",
    "# preparing the vairable for the diagram\n",
    "print(\"Marriage / Default\")\n",
    "_MARRIAGE_RANGE= [1,2,3]\n",
    "plt.figure(figsize=(10,5))\n",
    "\n",
    "married= dataset['MARRIAGE'][data['MARRIAGE']==1].count()\n",
    "married_default = dataset['MARRIAGE'][(dataset['MARRIAGE']==1)&(dataset['default.payment.next.month']==1)].count()\n",
    "\n",
    "single=dataset['MARRIAGE'][data['MARRIAGE']==2].count()\n",
    "single_default = dataset['MARRIAGE'][(dataset['MARRIAGE']==2)&(dataset['default.payment.next.month']==1)].count()\n",
    "\n",
    "others=dataset['MARRIAGE'][data['MARRIAGE']==3].count()\n",
    "others_default = dataset['MARRIAGE'][(dataset['MARRIAGE']==3)&(dataset['default.payment.next.month']==1)].count()\n",
    "\n",
    "\n",
    "marriage_total = [married,single,others]\n",
    "default_marriage_total = [married_default,single_default,others_default]\n",
    "\n",
    "plt.bar(_MARRIAGE_RANGE,marriage_total, color='grey')\n",
    "plt.bar(_MARRIAGE_RANGE,default_marriage_total, color='yellow',alpha = 0.7)\n",
    "plt.xticks([1,2,3],['Married','Single','Other'])\n",
    "plt.legend()\n",
    "plt.show()\n",
    "\n",
    "calculate_percentage(married,married_default,\"Married Default\")\n",
    "calculate_percentage(single,single_default,\"Single Default\")\n",
    "calculate_percentage(others,others_default,\"Others Default\")\n",
    "\n",
    "\n"
   ]
  },
  {
   "cell_type": "code",
   "execution_count": 9,
   "metadata": {},
   "outputs": [
    {
     "name": "stdout",
     "output_type": "stream",
     "text": [
      "Marriage / Gender / Default\n"
     ]
    },
    {
     "data": {
      "image/png": "[encoded data removed]",
      "text/plain": [
       "<matplotlib.figure.Figure at 0x7f93e2ef2290>"
      ]
     },
     "metadata": {},
     "output_type": "display_data"
    },
    {
     "name": "stdout",
     "output_type": "stream",
     "text": [
      "Percentage of Married Female Default is 21 %\n",
      "Percentage of Married Male Default is 25 %\n",
      "Percentage of Single Female Default is 7 %\n",
      "Percentage of Single Male Default is 14 %\n"
     ]
    }
   ],
   "source": [
    "# 1=married, 2=single, 3=others\n",
    "# preparing the vairable for the diagram\n",
    "print(\"Marriage / Gender / Default\")\n",
    "plt.figure(figsize=(10,5))\n",
    "_MARRIAGE_RANGE= [1,2,3,4]\n",
    "\n",
    "female_married= dataset['MARRIAGE'][(data['MARRIAGE']==1)&(data['SEX']==1)].count()\n",
    "female_married_default = dataset['MARRIAGE'][(dataset['MARRIAGE']==1)&(dataset['default.payment.next.month']==1)&(data['SEX']==1)].count()\n",
    "\n",
    "male_married= dataset['MARRIAGE'][(data['MARRIAGE']==1)&(data['SEX']==0)].count()\n",
    "male_married_default = dataset['MARRIAGE'][(dataset['MARRIAGE']==1)&(dataset['default.payment.next.month']==1)&(data['SEX']==0)].count()\n",
    "\n",
    "female_single= dataset['MARRIAGE'][(data['MARRIAGE']==0)&(data['SEX']==1)].count()\n",
    "female_single_default = dataset['MARRIAGE'][(dataset['MARRIAGE']==0)&(dataset['default.payment.next.month']==1)&(data['SEX']==1)].count()\n",
    "\n",
    "male_single= dataset['MARRIAGE'][(data['MARRIAGE']==0)&(data['SEX']==0)].count()\n",
    "male_single_default = dataset['MARRIAGE'][(dataset['MARRIAGE']==0)&(dataset['default.payment.next.month']==1)&(data['SEX']==0)].count()\n",
    "\n",
    "\n",
    "marriage_gender_total = [female_married,male_married,female_single,male_single]\n",
    "default_marriage_gender_total = [female_married_default,male_married_default,female_single_default,male_single_default]\n",
    "\n",
    "plt.bar(_MARRIAGE_RANGE,marriage_gender_total, color='grey')\n",
    "plt.bar(_MARRIAGE_RANGE,default_marriage_gender_total, color='yellow',alpha = 0.7)\n",
    "plt.xticks(_MARRIAGE_RANGE,['Married Female','Married Male','Female Single', 'Male Single'])\n",
    "plt.legend()\n",
    "plt.show()\n",
    "\n",
    "calculate_percentage(female_married,female_married_default,\"Married Female Default\")\n",
    "calculate_percentage(male_married,male_married_default,\"Married Male Default\")\n",
    "calculate_percentage(female_single,female_single_default,\"Single Female Default\")\n",
    "calculate_percentage(male_single,male_single_default,\"Single Male Default\")\n",
    "\n"
   ]
  },
  {
   "cell_type": "code",
   "execution_count": 10,
   "metadata": {},
   "outputs": [
    {
     "name": "stdout",
     "output_type": "stream",
     "text": [
      "Age / Default\n"
     ]
    },
    {
     "data": {
      "image/png": "[encoded data removed]",
      "text/plain": [
       "<matplotlib.figure.Figure at 0x7f93e2ffafd0>"
      ]
     },
     "metadata": {},
     "output_type": "display_data"
    },
    {
     "name": "stdout",
     "output_type": "stream",
     "text": [
      "Percentage of 21 is 20 %\n",
      "Percentage of 22 is 30 %\n",
      "Percentage of 23 is 26 %\n",
      "Percentage of 24 is 26 %\n",
      "Percentage of 25 is 25 %\n",
      "Percentage of 26 is 20 %\n",
      "Percentage of 27 is 21 %\n",
      "Percentage of 28 is 20 %\n",
      "Percentage of 29 is 19 %\n",
      "Percentage of 30 is 19 %\n",
      "Percentage of 31 is 18 %\n",
      "Percentage of 32 is 19 %\n",
      "Percentage of 33 is 18 %\n",
      "Percentage of 34 is 19 %\n",
      "Percentage of 35 is 20 %\n",
      "Percentage of 36 is 22 %\n",
      "Percentage of 37 is 21 %\n",
      "Percentage of 38 is 20 %\n",
      "Percentage of 39 is 20 %\n",
      "Percentage of 40 is 21 %\n",
      "Percentage of 41 is 22 %\n",
      "Percentage of 42 is 23 %\n",
      "Percentage of 43 is 22 %\n",
      "Percentage of 44 is 23 %\n",
      "Percentage of 45 is 18 %\n",
      "Percentage of 46 is 27 %\n",
      "Percentage of 47 is 23 %\n",
      "Percentage of 48 is 22 %\n",
      "Percentage of 49 is 26 %\n",
      "Percentage of 50 is 24 %\n",
      "Percentage of 51 is 25 %\n",
      "Percentage of 52 is 25 %\n",
      "Percentage of 53 is 22 %\n",
      "Percentage of 54 is 22 %\n",
      "Percentage of 55 is 27 %\n",
      "Percentage of 56 is 27 %\n",
      "Percentage of 57 is 22 %\n",
      "Percentage of 58 is 25 %\n",
      "Percentage of 59 is 25 %\n",
      "Percentage of 60 is 34 %\n",
      "Percentage of 61 is 37 %\n",
      "Percentage of 62 is 15 %\n",
      "Percentage of 63 is 25 %\n",
      "Percentage of 64 is 29 %\n",
      "Percentage of 65 is 20 %\n",
      "Percentage of 66 is 28 %\n",
      "Percentage of 67 is 31 %\n",
      "Percentage of 68 is 20 %\n",
      "Percentage of 69 is 20 %\n",
      "Percentage of 70 is 20 %\n",
      "Percentage of 71 is 0 %\n",
      "Percentage of 72 is 33 %\n",
      "Percentage of 73 is 75 %\n",
      "Percentage of 74 is 0 %\n",
      "Percentage of 75 is 33 %\n",
      "Percentage of 79 is 0 %\n"
     ]
    }
   ],
   "source": [
    "\n",
    "print(\"Age / Default\")\n",
    "plt.figure(figsize=(20,5))\n",
    "plt.hist(data['AGE'], sorted(data['AGE'].unique()),rwidth=0.9, color ='grey')\n",
    "plt.hist(dataset['AGE'][(dataset['default.payment.next.month']==1)], sorted(data['AGE'].unique()),rwidth=0.9,color='yellow',alpha = 0.7)\n",
    "plt.xlabel('Age')\n",
    "plt.ylabel('Count')\n",
    "plt.show()\n",
    "\n",
    "age_persentage_dataframe = pd.DataFrame(columns=['Age', 'Percentage'])\n",
    "\n",
    "for x in sorted(data['AGE'].unique()):\n",
    "    calculate_percentage(\n",
    "                         dataset['AGE'][dataset['AGE']==x ].count(),dataset['AGE'][(dataset['AGE']==x )&(dataset['default.payment.next.month']==1)].count(), x\n",
    "                               )\n",
    "\n"
   ]
  },
  {
   "cell_type": "code",
   "execution_count": 11,
   "metadata": {
    "scrolled": true
   },
   "outputs": [
    {
     "name": "stdout",
     "output_type": "stream",
     "text": [
      "Limit Balance / Default\n"
     ]
    },
    {
     "data": {
      "image/png": "[encoded data removed]",
      "text/plain": [
       "<matplotlib.figure.Figure at 0x7f93e2e86850>"
      ]
     },
     "metadata": {},
     "output_type": "display_data"
    },
    {
     "data": {
      "text/plain": [
       "<matplotlib.figure.Figure at 0x7f93e2f84710>"
      ]
     },
     "metadata": {},
     "output_type": "display_data"
    }
   ],
   "source": [
    "#LIMIT_BAL\n",
    "\n",
    "print(\"Limit Balance / Default\")\n",
    "plt.figure(figsize=(20,5))\n",
    "plt.hist(data['LIMIT_BAL'], sorted(data['LIMIT_BAL'].unique()),rwidth=0.9, color ='grey')\n",
    "plt.hist(dataset['LIMIT_BAL'][(dataset['default.payment.next.month']==1)], sorted(data['LIMIT_BAL'].unique()),rwidth=0.9,color='yellow',alpha = 0.7)\n",
    "plt.xlabel('Limit Balance')\n",
    "plt.ylabel('Count')\n",
    "plt.figure(figsize=(20,1))\n",
    "plt.show()\n",
    "\n"
   ]
  },
  {
   "cell_type": "code",
   "execution_count": 12,
   "metadata": {
    "scrolled": true
   },
   "outputs": [
    {
     "data": {
      "image/png": "[encoded data removed]",
      "text/plain": [
       "<matplotlib.figure.Figure at 0x7f93e2ad7390>"
      ]
     },
     "metadata": {},
     "output_type": "display_data"
    }
   ],
   "source": [
    "# PAY_1 , PAY_2 , PAY_3 , PAY_4 , PAY_5, PAY_6\n",
    "pay_status_columns = getColumnsNames('PAY_')\n",
    "figure, ax = plt.subplots(2,3)\n",
    "figure.set_size_inches(18,8)\n",
    "\n",
    "\n",
    "for i in range(len(pay_status_columns)):\n",
    "    row,col = int(i/3), i%3\n",
    "\n",
    "    d  = dataset[pay_status_columns[i]].value_counts()\n",
    "    x = dataset[pay_status_columns[i]][(dataset['default.payment.next.month']==1)].value_counts()\n",
    "    ax[row,col].bar(d.index, d, align='center', color='grey')\n",
    "    ax[row,col].bar(x.index, x, align='center', color='yellow', alpha=0.7)\n",
    "    ax[row,col].set_title(pay_status_columns[i])\n",
    "   \n",
    "\n",
    "\n",
    "    \n",
    "plt.show()"
   ]
  },
  {
   "cell_type": "code",
   "execution_count": 13,
   "metadata": {},
   "outputs": [
    {
     "data": {
      "image/png": "[encoded data removed]",
      "text/plain": [
       "<matplotlib.figure.Figure at 0x7f93e2952c10>"
      ]
     },
     "metadata": {},
     "output_type": "display_data"
    }
   ],
   "source": [
    "pay_amt_columns = getColumnsNames('PAY_AMT')\n",
    "figure, ax = plt.subplots(3,2)\n",
    "figure.set_size_inches(18,8)\n",
    "\n",
    "\n",
    "for i in range(len(pay_status_columns)):\n",
    "    row,col =  i%3, int(i/3)\n",
    "   \n",
    "    ax[row,col].hist(dataset[pay_amt_columns[i]], 30, color ='grey')\n",
    "    ax[row,col].hist(dataset[pay_amt_columns[i]][(dataset['default.payment.next.month']==1)],30,color='yellow',alpha = 0.7)\n",
    "    ax[row,col].set_title(pay_amt_columns[i])\n",
    "    #adding scaling to make the graph more helpful\n",
    "    ax[row,col].set_yscale('log', nonposy='clip')\n",
    "plt.tight_layout()\n",
    "plt.show()\n",
    "# for i in range(0,1):\n",
    "    \n",
    "#     plt.hist(dataset[pay_status_columns[i]], sorted(dataset[pay_status_columns[i]].unique()),rwidth=0.9, color ='grey')\n",
    "#     plt.show()\n"
   ]
  },
  {
   "cell_type": "code",
   "execution_count": 14,
   "metadata": {},
   "outputs": [
    {
     "data": {
      "image/png": "[encoded data removed]",
      "text/plain": [
       "<matplotlib.figure.Figure at 0x7f93e2e1d350>"
      ]
     },
     "metadata": {},
     "output_type": "display_data"
    }
   ],
   "source": [
    "# BILL_AMT1 , PAY_2 , PAY_3 , PAY_4 , PAY_5, PAY_6\n",
    "#(-1=pay duly, 1=payment delay for one month, 2=payment delay for two months, ... 8=payment delay for eight months, 9=payment delay for nine months and above)\n",
    "bill_atm_columns =  getColumnsNames('BILL_AMT')\n",
    "figure, ax = plt.subplots(3,2)\n",
    "figure.set_size_inches(10,10)\n",
    "\n",
    "\n",
    "for i in range(len(pay_status_columns)):\n",
    "    row,col =  i%3, int(i/3)\n",
    "   \n",
    "    ax[row,col].hist(dataset[bill_atm_columns[i]], 20,rwidth=0.9, color ='grey')\n",
    "    ax[row,col].hist(dataset[bill_atm_columns[i]][(dataset['default.payment.next.month']==1)],20,rwidth=0.9,color='yellow',alpha = 0.7)\n",
    "    ax[row,col].set_title(bill_atm_columns[i])\n",
    "    #adding scaling to make the graph more helpful\n",
    "    ax[row,col].set_yscale('log', nonposy='clip')\n",
    "plt.tight_layout()\n",
    "plt.show()\n",
    "\n",
    "\n"
   ]
  },
  {
   "cell_type": "markdown",
   "metadata": {},
   "source": [
    "### Feature Engineering:  Maybe ?\n",
    "- after looking at the result from the heat map it's clearly showing corelation between pay column and also between bill amount column...so ,create a new feature for both of them that will have the average. will go with this approache if i need better performance while trainning ( instead of trainning for 12 i would train for 2 features)\n",
    "- I was expecting to see some corrletion between (AGE/MARRIAGE/SEX) but that was not the case \n"
   ]
  },
  {
   "cell_type": "code",
   "execution_count": 15,
   "metadata": {
    "scrolled": true
   },
   "outputs": [
    {
     "data": {
      "text/plain": [
       "<matplotlib.axes._subplots.AxesSubplot at 0x7f93e29b3090>"
      ]
     },
     "execution_count": 15,
     "metadata": {},
     "output_type": "execute_result"
    },
    {
     "data": {
      "image/png": "[encoded data removed]",
      "text/plain": [
       "<matplotlib.figure.Figure at 0x7f93e29b3210>"
      ]
     },
     "metadata": {},
     "output_type": "display_data"
    }
   ],
   "source": [
    "\n",
    "import seaborn as sns\n",
    "\n",
    "corr = dataset.drop('ID',axis=1).corr()\n",
    "f, ax = plt.subplots(figsize=(10, 10))\n",
    "\n",
    "# Generate a custom diverging colormap\n",
    "cmap = sns.diverging_palette(220, 10, as_cmap=True)\n",
    "\n",
    "# Draw the heatmap with the mask and correct aspect ratio\n",
    "sns.heatmap(corr, cmap=cmap, vmin=0,vmax=1, center=0,\n",
    "            square=True, linewidths=.5)\n"
   ]
  },
  {
   "cell_type": "markdown",
   "metadata": {},
   "source": [
    "## Choose algorithm and start the trainning :\n",
    "- decide to choice few algorthim i think will do well see which one will get me to have a better score.. result starting with Random Forest (one of my favorite ) and am targeting to get a score close to 80% i got the following result"
   ]
  },
  {
   "cell_type": "code",
   "execution_count": 16,
   "metadata": {},
   "outputs": [
    {
     "name": "stderr",
     "output_type": "stream",
     "text": [
      "/usr/local/lib/python2.7/dist-packages/sklearn/cross_validation.py:41: DeprecationWarning: This module was deprecated in version 0.18 in favor of the model_selection module into which all the refactored classes and functions are moved. Also note that the interface of the new CV iterators are different from that of this module. This module will be removed in 0.20.\n",
      "  \"This module will be removed in 0.20.\", DeprecationWarning)\n"
     ]
    },
    {
     "name": "stdout",
     "output_type": "stream",
     "text": [
      "Score : %81.1066666667 using RandomForestClassifier\n",
      "Score : %81.92 using GradientBoostingClassifier\n",
      "Score : %82.1333333333 using AdaBoostClassifier\n",
      "Score : %82.6933333333 using DecisionTreeClassifier\n"
     ]
    }
   ],
   "source": [
    "from sklearn.ensemble import RandomForestClassifier,GradientBoostingClassifier,AdaBoostClassifier\n",
    "from sklearn.tree import DecisionTreeClassifier\n",
    "\n",
    "from  sklearn.cross_validation import train_test_split\n",
    "\n",
    "\n",
    "\n",
    "X = data\n",
    "Y = outcome\n",
    "x_train,x_test,y_train,y_test = train_test_split(data,outcome,test_size=0.25,random_state=0)\n",
    "\n",
    "clf = RandomForestClassifier(random_state=41)\n",
    "clf.fit(x_train,y_train)\n",
    "score = clf.score(x_test,y_test)\n",
    "print \"Score : %{} using {}\".format(score*100, 'RandomForestClassifier')\n",
    "\n",
    "clf = GradientBoostingClassifier(random_state=41,n_estimators=10,max_depth=4)\n",
    "clf.fit(x_train,y_train)\n",
    "score = clf.score(x_test,y_test)\n",
    "print \"Score : %{} using {}\".format(score*100, 'GradientBoostingClassifier')\n",
    "\n",
    "clf = AdaBoostClassifier(random_state=41,n_estimators=15)\n",
    "clf.fit(x_train,y_train)\n",
    "score = clf.score(x_test,y_test)\n",
    "print \"Score : %{} using {}\".format(score*100, 'AdaBoostClassifier')\n",
    "\n",
    "# adding setting the max_leaf_nodes imporved the acccuracy from 78 to 82 \n",
    "clf = DecisionTreeClassifier(random_state=41,max_leaf_nodes=3)\n",
    "clf.fit(x_train,y_train)\n",
    "score = clf.score(x_test,y_test)\n",
    "print \"Score : %{} using {}\".format(score*100, 'DecisionTreeClassifier')\n"
   ]
  },
  {
   "cell_type": "markdown",
   "metadata": {},
   "source": [
    "### Dropping one month at a time :\n",
    "- To see how much the enhancment that the 6 month data bring to the algorithim so i decide to drop all the data that belong to the 6th month and run Ada Boost Classifier... the accuracy dropped in 0.3% only that was better than what i was expected and that was due to the correlation we found earlier...after that i decide to have a loop and remove month on each loop and the algorithm did fine because my target to see from 2 or 3 month ."
   ]
  },
  {
   "cell_type": "code",
   "execution_count": 27,
   "metadata": {},
   "outputs": [
    {
     "name": "stdout",
     "output_type": "stream",
     "text": [
      "Score : %82.1066666667 after dropping 6th month\n",
      "Score : %82.3466666667 after dropping 5th month\n",
      "Score : %82.1333333333 after dropping 4th month\n",
      "Score : %82.56 after dropping 3th month\n",
      "Score : %82.5866666667 after dropping 2th month\n",
      "Score : %78.2266666667 after dropping 1th month\n"
     ]
    }
   ],
   "source": [
    "from sklearn.ensemble import RandomForestClassifier\n",
    "from  sklearn.cross_validation import train_test_split\n",
    "from sklearn.feature_selection import f_classif, SelectKBest\n",
    "import numpy as np\n",
    "columns_to_drop =['PAY_AMT', 'BILL_AMT','PAY_']\n",
    "X = data.drop(['ID'],axis=1)\n",
    "Y = outcome\n",
    "for i in range(6,0,-1):\n",
    "    for x in range(0,len(columns_to_drop)):\n",
    "        X = X.drop(columns_to_drop[x]+str(i),axis=1)\n",
    "        x_train,x_test,y_train,y_test = train_test_split(X,Y,test_size=0.25,random_state=0)\n",
    "    clf = AdaBoostClassifier(random_state=41)\n",
    "    clf.fit(x_train,y_train)\n",
    "    current_score = clf.score(x_test,y_test)\n",
    "    print \"Score : %{} after dropping {}th month\".format(current_score*100, i)\n",
    "\n"
   ]
  },
  {
   "cell_type": "markdown",
   "metadata": {},
   "source": [
    "##### Trying to find the best Params for the algorithm using GridSearch "
   ]
  },
  {
   "cell_type": "code",
   "execution_count": 59,
   "metadata": {},
   "outputs": [
    {
     "data": {
      "text/plain": [
       "{'learning_rate': 0.3, 'n_estimators': 5}"
      ]
     },
     "execution_count": 59,
     "metadata": {},
     "output_type": "execute_result"
    }
   ],
   "source": [
    "from sklearn.model_selection import GridSearchCV\n",
    "parameters = {'n_estimators':[5,10,15,20], 'learning_rate':[0.3, 0.5,0.75,1]}\n",
    "X = data.drop(['ID'],axis=1)\n",
    "for i in range(6,2,-1):\n",
    "    for x in range(0,len(columns_to_drop)):\n",
    "        X = X.drop(columns_to_drop[x]+str(i),axis=1)\n",
    "x_train,x_test,y_train,y_test = train_test_split(X,Y,test_size=0.25,random_state=0)\n",
    "adaboost = AdaBoostClassifier(random_state=41)\n",
    "clf = GridSearchCV(adaboost, parameters)\n",
    "clf.fit(x_train, y_train)\n",
    "clf.score(x_test,y_test)\n",
    "clf.best_params_\n"
   ]
  },
  {
   "cell_type": "markdown",
   "metadata": {},
   "source": [
    "##### Final Model :\n"
   ]
  },
  {
   "cell_type": "code",
   "execution_count": 60,
   "metadata": {},
   "outputs": [
    {
     "data": {
      "text/plain": [
       "0.8269333333333333"
      ]
     },
     "execution_count": 60,
     "metadata": {},
     "output_type": "execute_result"
    }
   ],
   "source": [
    "adaboost = AdaBoostClassifier(random_state=41,learning_rate=0.3,n_estimators=5)\n",
    "adaboost.fit(x_train, y_train)\n",
    "adaboost.score(x_test,y_test)"
   ]
  },
  {
   "cell_type": "markdown",
   "metadata": {},
   "source": [
    "## Result : I think the model did pretty well with having data only from the first two month and was able to predict with 82.6% accuracy and that what i was targetting "
   ]
  },
  {
   "cell_type": "markdown",
   "metadata": {},
   "source": [
    "### Free-Form Visualization \n",
    "Here we use the Feature Importances to see the use of forests of trees to evaluate the importance of features. "
   ]
  },
  {
   "cell_type": "code",
   "execution_count": 51,
   "metadata": {},
   "outputs": [
    {
     "data": {
      "image/png": "[encoded data removed]",
      "text/plain": [
       "<matplotlib.figure.Figure at 0x7f93d4c3f790>"
      ]
     },
     "metadata": {},
     "output_type": "display_data"
    }
   ],
   "source": [
    "\n",
    "\n",
    "importances = clf.feature_importances_\n",
    "std = np.std([clf.feature_importances_ for tree in clf.estimators_],\n",
    "             axis=0)\n",
    "indices = np.argsort(importances)[::-1]\n",
    "print X.columns\n",
    "# Print the feature ranking\n",
    "print(\"Feature ranking:\")\n",
    "\n",
    "for f in range(X.shape[1]):\n",
    "    print(\"%d. feature %d %s (%f)\" % (f + 1, indices[f], importances[indices[f]]))\n",
    "\n",
    "# Plot the feature importances of the forest\n",
    "plt.figure()\n",
    "plt.title(\"Feature importances\")\n",
    "plt.bar(range(X.shape[1]), importances[indices],\n",
    "       color=\"r\", yerr=std[indices], align=\"center\")\n",
    "plt.xticks(range(X.shape[1]), indices)\n",
    "plt.xlim([-1, X.shape[1]])\n",
    "plt.show()\n"
   ]
  },
  {
   "cell_type": "code",
   "execution_count": null,
   "metadata": {},
   "outputs": [],
   "source": []
  },
  {
   "cell_type": "code",
   "execution_count": null,
   "metadata": {},
   "outputs": [],
   "source": []
  }
 ],
 "metadata": {
  "kernelspec": {
   "display_name": "Python 2",
   "language": "python",
   "name": "python2"
  },
  "language_info": {
   "codemirror_mode": {
    "name": "ipython",
    "version": 2
   },
   "file_extension": ".py",
   "mimetype": "text/x-python",
   "name": "python",
   "nbconvert_exporter": "python",
   "pygments_lexer": "ipython2",
   "version": "2.7.12"
  }
 },
 "nbformat": 4,
 "nbformat_minor": 2
}
